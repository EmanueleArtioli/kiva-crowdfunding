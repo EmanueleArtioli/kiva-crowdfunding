{
 "cells": [
  {
   "cell_type": "markdown",
   "metadata": {},
   "source": [
    "# Foundations of Computer Science Project - Kiva Crowdfunding"
   ]
  },
  {
   "cell_type": "code",
   "execution_count": 1,
   "metadata": {},
   "outputs": [],
   "source": [
    "import numpy as np, pandas as pd"
   ]
  },
  {
   "cell_type": "markdown",
   "metadata": {},
   "source": [
    "### 1. Normalize the loan_lenders table. In the normalized table, each row must have one loan_id and one lender."
   ]
  },
  {
   "cell_type": "code",
   "execution_count": 2,
   "metadata": {},
   "outputs": [
    {
     "data": {
      "text/html": [
       "<div>\n",
       "<style scoped>\n",
       "    .dataframe tbody tr th:only-of-type {\n",
       "        vertical-align: middle;\n",
       "    }\n",
       "\n",
       "    .dataframe tbody tr th {\n",
       "        vertical-align: top;\n",
       "    }\n",
       "\n",
       "    .dataframe thead th {\n",
       "        text-align: right;\n",
       "    }\n",
       "</style>\n",
       "<table border=\"1\" class=\"dataframe\">\n",
       "  <thead>\n",
       "    <tr style=\"text-align: right;\">\n",
       "      <th></th>\n",
       "      <th>loan_id</th>\n",
       "      <th>lenders</th>\n",
       "    </tr>\n",
       "  </thead>\n",
       "  <tbody>\n",
       "    <tr>\n",
       "      <th>0</th>\n",
       "      <td>483693</td>\n",
       "      <td>muc888, sam4326, camaran3922, lachheb1865, reb...</td>\n",
       "    </tr>\n",
       "    <tr>\n",
       "      <th>1</th>\n",
       "      <td>483738</td>\n",
       "      <td>muc888, nora3555, williammanashi, barbara5610,...</td>\n",
       "    </tr>\n",
       "    <tr>\n",
       "      <th>2</th>\n",
       "      <td>485000</td>\n",
       "      <td>muc888, terrystl, richardandsusan8352, sherri4...</td>\n",
       "    </tr>\n",
       "    <tr>\n",
       "      <th>3</th>\n",
       "      <td>486087</td>\n",
       "      <td>muc888, james5068, rudi5955, daniel9859, don92...</td>\n",
       "    </tr>\n",
       "    <tr>\n",
       "      <th>4</th>\n",
       "      <td>534428</td>\n",
       "      <td>muc888, niki3008, teresa9174, mike4896, david7...</td>\n",
       "    </tr>\n",
       "  </tbody>\n",
       "</table>\n",
       "</div>"
      ],
      "text/plain": [
       "   loan_id                                            lenders\n",
       "0   483693  muc888, sam4326, camaran3922, lachheb1865, reb...\n",
       "1   483738  muc888, nora3555, williammanashi, barbara5610,...\n",
       "2   485000  muc888, terrystl, richardandsusan8352, sherri4...\n",
       "3   486087  muc888, james5068, rudi5955, daniel9859, don92...\n",
       "4   534428  muc888, niki3008, teresa9174, mike4896, david7..."
      ]
     },
     "execution_count": 2,
     "metadata": {},
     "output_type": "execute_result"
    }
   ],
   "source": [
    "lenders = pd.read_csv('additional-kiva-snapshot/loans_lenders.csv', nrows=5)\n",
    "lenders.head()"
   ]
  },
  {
   "cell_type": "code",
   "execution_count": 3,
   "metadata": {},
   "outputs": [
    {
     "data": {
      "text/html": [
       "<div>\n",
       "<style scoped>\n",
       "    .dataframe tbody tr th:only-of-type {\n",
       "        vertical-align: middle;\n",
       "    }\n",
       "\n",
       "    .dataframe tbody tr th {\n",
       "        vertical-align: top;\n",
       "    }\n",
       "\n",
       "    .dataframe thead th {\n",
       "        text-align: right;\n",
       "    }\n",
       "</style>\n",
       "<table border=\"1\" class=\"dataframe\">\n",
       "  <thead>\n",
       "    <tr style=\"text-align: right;\">\n",
       "      <th></th>\n",
       "      <th>loan_id</th>\n",
       "      <th>lender</th>\n",
       "    </tr>\n",
       "  </thead>\n",
       "  <tbody>\n",
       "    <tr>\n",
       "      <th>0</th>\n",
       "      <td>483693</td>\n",
       "      <td>muc888</td>\n",
       "    </tr>\n",
       "    <tr>\n",
       "      <th>0</th>\n",
       "      <td>483693</td>\n",
       "      <td>sam4326</td>\n",
       "    </tr>\n",
       "    <tr>\n",
       "      <th>0</th>\n",
       "      <td>483693</td>\n",
       "      <td>camaran3922</td>\n",
       "    </tr>\n",
       "    <tr>\n",
       "      <th>0</th>\n",
       "      <td>483693</td>\n",
       "      <td>lachheb1865</td>\n",
       "    </tr>\n",
       "    <tr>\n",
       "      <th>0</th>\n",
       "      <td>483693</td>\n",
       "      <td>rebecca3499</td>\n",
       "    </tr>\n",
       "  </tbody>\n",
       "</table>\n",
       "</div>"
      ],
      "text/plain": [
       "   loan_id        lender\n",
       "0   483693        muc888\n",
       "0   483693       sam4326\n",
       "0   483693   camaran3922\n",
       "0   483693   lachheb1865\n",
       "0   483693   rebecca3499"
      ]
     },
     "execution_count": 3,
     "metadata": {},
     "output_type": "execute_result"
    }
   ],
   "source": [
    "#dataframe gets huge after splitting, declaring data types to optimize memory management\n",
    "lenders = pd.read_csv('additional-kiva-snapshot/loans_lenders.csv', dtype={'loan_id': np.uint32})\n",
    "\n",
    "loans = pd.Series(lenders['loan_id'])\n",
    "#splitting each lenders list into separate names\n",
    "lenders = lenders['lenders'].str.split(',').explode()\n",
    "lenders = {'loan_id': loans, 'lender': lenders}\n",
    "lenders = pd.DataFrame(lenders)\n",
    "\n",
    "lenders.head()"
   ]
  },
  {
   "cell_type": "markdown",
   "metadata": {},
   "source": [
    "### 2. For each loan, add a column duration corresponding to the number of days between the disburse time and the planned expiration time. If any of those two dates is missing, also the duration must be missing."
   ]
  },
  {
   "cell_type": "code",
   "execution_count": 4,
   "metadata": {},
   "outputs": [
    {
     "data": {
      "text/html": [
       "<div>\n",
       "<style scoped>\n",
       "    .dataframe tbody tr th:only-of-type {\n",
       "        vertical-align: middle;\n",
       "    }\n",
       "\n",
       "    .dataframe tbody tr th {\n",
       "        vertical-align: top;\n",
       "    }\n",
       "\n",
       "    .dataframe thead th {\n",
       "        text-align: right;\n",
       "    }\n",
       "</style>\n",
       "<table border=\"1\" class=\"dataframe\">\n",
       "  <thead>\n",
       "    <tr style=\"text-align: right;\">\n",
       "      <th></th>\n",
       "      <th>loan_id</th>\n",
       "      <th>loan_name</th>\n",
       "      <th>original_language</th>\n",
       "      <th>description</th>\n",
       "      <th>description_translated</th>\n",
       "      <th>funded_amount</th>\n",
       "      <th>loan_amount</th>\n",
       "      <th>status</th>\n",
       "      <th>activity_name</th>\n",
       "      <th>sector_name</th>\n",
       "      <th>...</th>\n",
       "      <th>raised_time</th>\n",
       "      <th>lender_term</th>\n",
       "      <th>num_lenders_total</th>\n",
       "      <th>num_journal_entries</th>\n",
       "      <th>num_bulk_entries</th>\n",
       "      <th>tags</th>\n",
       "      <th>borrower_genders</th>\n",
       "      <th>borrower_pictured</th>\n",
       "      <th>repayment_interval</th>\n",
       "      <th>distribution_model</th>\n",
       "    </tr>\n",
       "  </thead>\n",
       "  <tbody>\n",
       "    <tr>\n",
       "      <th>0</th>\n",
       "      <td>657307</td>\n",
       "      <td>Aivy</td>\n",
       "      <td>English</td>\n",
       "      <td>Aivy, 21 years of age, is single and lives in ...</td>\n",
       "      <td>NaN</td>\n",
       "      <td>125.0</td>\n",
       "      <td>125.0</td>\n",
       "      <td>funded</td>\n",
       "      <td>General Store</td>\n",
       "      <td>Retail</td>\n",
       "      <td>...</td>\n",
       "      <td>2014-01-15 04:48:22.000 +0000</td>\n",
       "      <td>7.0</td>\n",
       "      <td>3</td>\n",
       "      <td>2</td>\n",
       "      <td>1</td>\n",
       "      <td>NaN</td>\n",
       "      <td>female</td>\n",
       "      <td>True</td>\n",
       "      <td>irregular</td>\n",
       "      <td>field_partner</td>\n",
       "    </tr>\n",
       "    <tr>\n",
       "      <th>1</th>\n",
       "      <td>657259</td>\n",
       "      <td>Idalia Marizza</td>\n",
       "      <td>Spanish</td>\n",
       "      <td>Doña Idalia, esta casada, tiene 57 años de eda...</td>\n",
       "      <td>Idalia, 57, is married and lives with her husb...</td>\n",
       "      <td>400.0</td>\n",
       "      <td>400.0</td>\n",
       "      <td>funded</td>\n",
       "      <td>Used Clothing</td>\n",
       "      <td>Clothing</td>\n",
       "      <td>...</td>\n",
       "      <td>2014-02-25 06:42:06.000 +0000</td>\n",
       "      <td>8.0</td>\n",
       "      <td>11</td>\n",
       "      <td>2</td>\n",
       "      <td>1</td>\n",
       "      <td>NaN</td>\n",
       "      <td>female</td>\n",
       "      <td>True</td>\n",
       "      <td>monthly</td>\n",
       "      <td>field_partner</td>\n",
       "    </tr>\n",
       "    <tr>\n",
       "      <th>2</th>\n",
       "      <td>658010</td>\n",
       "      <td>Aasia</td>\n",
       "      <td>English</td>\n",
       "      <td>Aasia is a 45-year-old married lady and she ha...</td>\n",
       "      <td>NaN</td>\n",
       "      <td>400.0</td>\n",
       "      <td>400.0</td>\n",
       "      <td>funded</td>\n",
       "      <td>General Store</td>\n",
       "      <td>Retail</td>\n",
       "      <td>...</td>\n",
       "      <td>2014-01-24 23:06:18.000 +0000</td>\n",
       "      <td>14.0</td>\n",
       "      <td>16</td>\n",
       "      <td>2</td>\n",
       "      <td>1</td>\n",
       "      <td>#Woman Owned Biz, #Supporting Family, user_fav...</td>\n",
       "      <td>female</td>\n",
       "      <td>True</td>\n",
       "      <td>monthly</td>\n",
       "      <td>field_partner</td>\n",
       "    </tr>\n",
       "    <tr>\n",
       "      <th>3</th>\n",
       "      <td>659347</td>\n",
       "      <td>Gulmira</td>\n",
       "      <td>Russian</td>\n",
       "      <td>Гулмире 36 лет, замужем, вместе с супругом вос...</td>\n",
       "      <td>Gulmira is 36 years old and married.  She and ...</td>\n",
       "      <td>625.0</td>\n",
       "      <td>625.0</td>\n",
       "      <td>funded</td>\n",
       "      <td>Farming</td>\n",
       "      <td>Agriculture</td>\n",
       "      <td>...</td>\n",
       "      <td>2014-01-22 05:29:28.000 +0000</td>\n",
       "      <td>14.0</td>\n",
       "      <td>21</td>\n",
       "      <td>2</td>\n",
       "      <td>1</td>\n",
       "      <td>user_favorite</td>\n",
       "      <td>female</td>\n",
       "      <td>True</td>\n",
       "      <td>monthly</td>\n",
       "      <td>field_partner</td>\n",
       "    </tr>\n",
       "    <tr>\n",
       "      <th>4</th>\n",
       "      <td>656933</td>\n",
       "      <td>Ricky\\t</td>\n",
       "      <td>English</td>\n",
       "      <td>Ricky is a farmer who currently cultivates his...</td>\n",
       "      <td>NaN</td>\n",
       "      <td>425.0</td>\n",
       "      <td>425.0</td>\n",
       "      <td>funded</td>\n",
       "      <td>Farming</td>\n",
       "      <td>Agriculture</td>\n",
       "      <td>...</td>\n",
       "      <td>2014-01-14 17:29:27.000 +0000</td>\n",
       "      <td>7.0</td>\n",
       "      <td>15</td>\n",
       "      <td>2</td>\n",
       "      <td>1</td>\n",
       "      <td>#Animals, #Eco-friendly, #Sustainable Ag</td>\n",
       "      <td>male</td>\n",
       "      <td>True</td>\n",
       "      <td>bullet</td>\n",
       "      <td>field_partner</td>\n",
       "    </tr>\n",
       "  </tbody>\n",
       "</table>\n",
       "<p>5 rows × 31 columns</p>\n",
       "</div>"
      ],
      "text/plain": [
       "   loan_id       loan_name original_language  \\\n",
       "0   657307            Aivy           English   \n",
       "1   657259  Idalia Marizza           Spanish   \n",
       "2   658010           Aasia           English   \n",
       "3   659347         Gulmira           Russian   \n",
       "4   656933         Ricky\\t           English   \n",
       "\n",
       "                                         description  \\\n",
       "0  Aivy, 21 years of age, is single and lives in ...   \n",
       "1  Doña Idalia, esta casada, tiene 57 años de eda...   \n",
       "2  Aasia is a 45-year-old married lady and she ha...   \n",
       "3  Гулмире 36 лет, замужем, вместе с супругом вос...   \n",
       "4  Ricky is a farmer who currently cultivates his...   \n",
       "\n",
       "                              description_translated  funded_amount  \\\n",
       "0                                                NaN          125.0   \n",
       "1  Idalia, 57, is married and lives with her husb...          400.0   \n",
       "2                                                NaN          400.0   \n",
       "3  Gulmira is 36 years old and married.  She and ...          625.0   \n",
       "4                                                NaN          425.0   \n",
       "\n",
       "   loan_amount  status  activity_name  sector_name  ...  \\\n",
       "0        125.0  funded  General Store       Retail  ...   \n",
       "1        400.0  funded  Used Clothing     Clothing  ...   \n",
       "2        400.0  funded  General Store       Retail  ...   \n",
       "3        625.0  funded        Farming  Agriculture  ...   \n",
       "4        425.0  funded        Farming  Agriculture  ...   \n",
       "\n",
       "                     raised_time lender_term num_lenders_total  \\\n",
       "0  2014-01-15 04:48:22.000 +0000         7.0                 3   \n",
       "1  2014-02-25 06:42:06.000 +0000         8.0                11   \n",
       "2  2014-01-24 23:06:18.000 +0000        14.0                16   \n",
       "3  2014-01-22 05:29:28.000 +0000        14.0                21   \n",
       "4  2014-01-14 17:29:27.000 +0000         7.0                15   \n",
       "\n",
       "  num_journal_entries num_bulk_entries  \\\n",
       "0                   2                1   \n",
       "1                   2                1   \n",
       "2                   2                1   \n",
       "3                   2                1   \n",
       "4                   2                1   \n",
       "\n",
       "                                                tags borrower_genders  \\\n",
       "0                                                NaN           female   \n",
       "1                                                NaN           female   \n",
       "2  #Woman Owned Biz, #Supporting Family, user_fav...           female   \n",
       "3                                      user_favorite           female   \n",
       "4           #Animals, #Eco-friendly, #Sustainable Ag             male   \n",
       "\n",
       "   borrower_pictured repayment_interval distribution_model  \n",
       "0               True          irregular      field_partner  \n",
       "1               True            monthly      field_partner  \n",
       "2               True            monthly      field_partner  \n",
       "3               True            monthly      field_partner  \n",
       "4               True             bullet      field_partner  \n",
       "\n",
       "[5 rows x 31 columns]"
      ]
     },
     "execution_count": 4,
     "metadata": {},
     "output_type": "execute_result"
    }
   ],
   "source": [
    "loans = pd.read_csv('additional-kiva-snapshot/loans.csv', nrows=5)\n",
    "loans.head()"
   ]
  },
  {
   "cell_type": "code",
   "execution_count": 5,
   "metadata": {},
   "outputs": [
    {
     "data": {
      "text/plain": [
       "Index(['loan_id', 'loan_name', 'original_language', 'description',\n",
       "       'description_translated', 'funded_amount', 'loan_amount', 'status',\n",
       "       'activity_name', 'sector_name', 'loan_use', 'country_code',\n",
       "       'country_name', 'town_name', 'currency_policy',\n",
       "       'currency_exchange_coverage_rate', 'currency', 'partner_id',\n",
       "       'posted_time', 'planned_expiration_time', 'disburse_time',\n",
       "       'raised_time', 'lender_term', 'num_lenders_total',\n",
       "       'num_journal_entries', 'num_bulk_entries', 'tags', 'borrower_genders',\n",
       "       'borrower_pictured', 'repayment_interval', 'distribution_model'],\n",
       "      dtype='object')"
      ]
     },
     "execution_count": 5,
     "metadata": {},
     "output_type": "execute_result"
    }
   ],
   "source": [
    "#big dataset: unused attributes not imported and data types declared in order to save space\n",
    "loans.columns"
   ]
  },
  {
   "cell_type": "code",
   "execution_count": 6,
   "metadata": {},
   "outputs": [
    {
     "data": {
      "text/html": [
       "<div>\n",
       "<style scoped>\n",
       "    .dataframe tbody tr th:only-of-type {\n",
       "        vertical-align: middle;\n",
       "    }\n",
       "\n",
       "    .dataframe tbody tr th {\n",
       "        vertical-align: top;\n",
       "    }\n",
       "\n",
       "    .dataframe thead th {\n",
       "        text-align: right;\n",
       "    }\n",
       "</style>\n",
       "<table border=\"1\" class=\"dataframe\">\n",
       "  <thead>\n",
       "    <tr style=\"text-align: right;\">\n",
       "      <th></th>\n",
       "      <th>loan_id</th>\n",
       "      <th>funded_amount</th>\n",
       "      <th>loan_amount</th>\n",
       "      <th>status</th>\n",
       "      <th>country_code</th>\n",
       "      <th>country_name</th>\n",
       "      <th>planned_expiration_time</th>\n",
       "      <th>disburse_time</th>\n",
       "      <th>num_lenders_total</th>\n",
       "      <th>repayment_interval</th>\n",
       "    </tr>\n",
       "  </thead>\n",
       "  <tbody>\n",
       "    <tr>\n",
       "      <th>0</th>\n",
       "      <td>657307</td>\n",
       "      <td>125</td>\n",
       "      <td>125</td>\n",
       "      <td>funded</td>\n",
       "      <td>PH</td>\n",
       "      <td>Philippines</td>\n",
       "      <td>2014-02-14 03:30:06.000 +0000</td>\n",
       "      <td>2013-12-22 08:00:00.000 +0000</td>\n",
       "      <td>3</td>\n",
       "      <td>irregular</td>\n",
       "    </tr>\n",
       "    <tr>\n",
       "      <th>1</th>\n",
       "      <td>657259</td>\n",
       "      <td>400</td>\n",
       "      <td>400</td>\n",
       "      <td>funded</td>\n",
       "      <td>HN</td>\n",
       "      <td>Honduras</td>\n",
       "      <td>2014-03-26 22:25:07.000 +0000</td>\n",
       "      <td>2013-12-20 08:00:00.000 +0000</td>\n",
       "      <td>11</td>\n",
       "      <td>monthly</td>\n",
       "    </tr>\n",
       "    <tr>\n",
       "      <th>2</th>\n",
       "      <td>658010</td>\n",
       "      <td>400</td>\n",
       "      <td>400</td>\n",
       "      <td>funded</td>\n",
       "      <td>PK</td>\n",
       "      <td>Pakistan</td>\n",
       "      <td>2014-02-15 21:10:05.000 +0000</td>\n",
       "      <td>2014-01-09 08:00:00.000 +0000</td>\n",
       "      <td>16</td>\n",
       "      <td>monthly</td>\n",
       "    </tr>\n",
       "    <tr>\n",
       "      <th>3</th>\n",
       "      <td>659347</td>\n",
       "      <td>625</td>\n",
       "      <td>625</td>\n",
       "      <td>funded</td>\n",
       "      <td>KG</td>\n",
       "      <td>Kyrgyzstan</td>\n",
       "      <td>2014-02-21 03:10:02.000 +0000</td>\n",
       "      <td>2014-01-17 08:00:00.000 +0000</td>\n",
       "      <td>21</td>\n",
       "      <td>monthly</td>\n",
       "    </tr>\n",
       "    <tr>\n",
       "      <th>4</th>\n",
       "      <td>656933</td>\n",
       "      <td>425</td>\n",
       "      <td>425</td>\n",
       "      <td>funded</td>\n",
       "      <td>PH</td>\n",
       "      <td>Philippines</td>\n",
       "      <td>2014-02-13 06:10:02.000 +0000</td>\n",
       "      <td>2013-12-17 08:00:00.000 +0000</td>\n",
       "      <td>15</td>\n",
       "      <td>bullet</td>\n",
       "    </tr>\n",
       "  </tbody>\n",
       "</table>\n",
       "</div>"
      ],
      "text/plain": [
       "   loan_id  funded_amount  loan_amount  status country_code country_name  \\\n",
       "0   657307            125          125  funded           PH  Philippines   \n",
       "1   657259            400          400  funded           HN     Honduras   \n",
       "2   658010            400          400  funded           PK     Pakistan   \n",
       "3   659347            625          625  funded           KG   Kyrgyzstan   \n",
       "4   656933            425          425  funded           PH  Philippines   \n",
       "\n",
       "         planned_expiration_time                  disburse_time  \\\n",
       "0  2014-02-14 03:30:06.000 +0000  2013-12-22 08:00:00.000 +0000   \n",
       "1  2014-03-26 22:25:07.000 +0000  2013-12-20 08:00:00.000 +0000   \n",
       "2  2014-02-15 21:10:05.000 +0000  2014-01-09 08:00:00.000 +0000   \n",
       "3  2014-02-21 03:10:02.000 +0000  2014-01-17 08:00:00.000 +0000   \n",
       "4  2014-02-13 06:10:02.000 +0000  2013-12-17 08:00:00.000 +0000   \n",
       "\n",
       "   num_lenders_total repayment_interval  \n",
       "0                  3          irregular  \n",
       "1                 11            monthly  \n",
       "2                 16            monthly  \n",
       "3                 21            monthly  \n",
       "4                 15             bullet  "
      ]
     },
     "execution_count": 6,
     "metadata": {},
     "output_type": "execute_result"
    }
   ],
   "source": [
    "loans = pd.read_csv('additional-kiva-snapshot/loans.csv',\n",
    "                    usecols=['loan_id', 'funded_amount', 'loan_amount', 'status', 'country_code', 'country_name', \n",
    "                             'planned_expiration_time', 'disburse_time', 'num_lenders_total', 'repayment_interval'],\n",
    "                    dtype={'loan_id': np.uint32, 'funded_amount': np.uint32, 'loan_amount': np.uint32,\n",
    "                           'status': 'category', 'country_code': 'category', 'country_name': 'category',\n",
    "                          'planned_expiration_time': 'str', 'disburse_time': 'str',\n",
    "                           'num_lenders_total': np.uint32, 'repayment_interval': 'category'})\n",
    "loans.head()"
   ]
  },
  {
   "cell_type": "code",
   "execution_count": 7,
   "metadata": {},
   "outputs": [
    {
     "data": {
      "text/plain": [
       "False    1416794\n",
       "True        2813\n",
       "Name: disburse_time, dtype: int64"
      ]
     },
     "execution_count": 7,
     "metadata": {},
     "output_type": "execute_result"
    }
   ],
   "source": [
    "loans['disburse_time'].isnull().value_counts()"
   ]
  },
  {
   "cell_type": "code",
   "execution_count": 8,
   "metadata": {},
   "outputs": [
    {
     "data": {
      "text/plain": [
       "False    1047773\n",
       "True      371834\n",
       "Name: planned_expiration_time, dtype: int64"
      ]
     },
     "execution_count": 8,
     "metadata": {},
     "output_type": "execute_result"
    }
   ],
   "source": [
    "loans['planned_expiration_time'].isnull().value_counts()"
   ]
  },
  {
   "cell_type": "code",
   "execution_count": 9,
   "metadata": {},
   "outputs": [
    {
     "data": {
      "text/html": [
       "<div>\n",
       "<style scoped>\n",
       "    .dataframe tbody tr th:only-of-type {\n",
       "        vertical-align: middle;\n",
       "    }\n",
       "\n",
       "    .dataframe tbody tr th {\n",
       "        vertical-align: top;\n",
       "    }\n",
       "\n",
       "    .dataframe thead th {\n",
       "        text-align: right;\n",
       "    }\n",
       "</style>\n",
       "<table border=\"1\" class=\"dataframe\">\n",
       "  <thead>\n",
       "    <tr style=\"text-align: right;\">\n",
       "      <th></th>\n",
       "      <th>loan_id</th>\n",
       "      <th>funded_amount</th>\n",
       "      <th>loan_amount</th>\n",
       "      <th>status</th>\n",
       "      <th>country_code</th>\n",
       "      <th>country_name</th>\n",
       "      <th>planned_expiration_time</th>\n",
       "      <th>disburse_time</th>\n",
       "      <th>num_lenders_total</th>\n",
       "      <th>repayment_interval</th>\n",
       "      <th>duration</th>\n",
       "    </tr>\n",
       "  </thead>\n",
       "  <tbody>\n",
       "    <tr>\n",
       "      <th>0</th>\n",
       "      <td>657307</td>\n",
       "      <td>125</td>\n",
       "      <td>125</td>\n",
       "      <td>funded</td>\n",
       "      <td>PH</td>\n",
       "      <td>Philippines</td>\n",
       "      <td>2014-02-14 03:30:06.000 +0000</td>\n",
       "      <td>2013-12-22 08:00:00.000 +0000</td>\n",
       "      <td>3</td>\n",
       "      <td>irregular</td>\n",
       "      <td>53 days 19:30:06</td>\n",
       "    </tr>\n",
       "    <tr>\n",
       "      <th>1</th>\n",
       "      <td>657259</td>\n",
       "      <td>400</td>\n",
       "      <td>400</td>\n",
       "      <td>funded</td>\n",
       "      <td>HN</td>\n",
       "      <td>Honduras</td>\n",
       "      <td>2014-03-26 22:25:07.000 +0000</td>\n",
       "      <td>2013-12-20 08:00:00.000 +0000</td>\n",
       "      <td>11</td>\n",
       "      <td>monthly</td>\n",
       "      <td>96 days 14:25:07</td>\n",
       "    </tr>\n",
       "    <tr>\n",
       "      <th>2</th>\n",
       "      <td>658010</td>\n",
       "      <td>400</td>\n",
       "      <td>400</td>\n",
       "      <td>funded</td>\n",
       "      <td>PK</td>\n",
       "      <td>Pakistan</td>\n",
       "      <td>2014-02-15 21:10:05.000 +0000</td>\n",
       "      <td>2014-01-09 08:00:00.000 +0000</td>\n",
       "      <td>16</td>\n",
       "      <td>monthly</td>\n",
       "      <td>37 days 13:10:05</td>\n",
       "    </tr>\n",
       "    <tr>\n",
       "      <th>3</th>\n",
       "      <td>659347</td>\n",
       "      <td>625</td>\n",
       "      <td>625</td>\n",
       "      <td>funded</td>\n",
       "      <td>KG</td>\n",
       "      <td>Kyrgyzstan</td>\n",
       "      <td>2014-02-21 03:10:02.000 +0000</td>\n",
       "      <td>2014-01-17 08:00:00.000 +0000</td>\n",
       "      <td>21</td>\n",
       "      <td>monthly</td>\n",
       "      <td>34 days 19:10:02</td>\n",
       "    </tr>\n",
       "    <tr>\n",
       "      <th>4</th>\n",
       "      <td>656933</td>\n",
       "      <td>425</td>\n",
       "      <td>425</td>\n",
       "      <td>funded</td>\n",
       "      <td>PH</td>\n",
       "      <td>Philippines</td>\n",
       "      <td>2014-02-13 06:10:02.000 +0000</td>\n",
       "      <td>2013-12-17 08:00:00.000 +0000</td>\n",
       "      <td>15</td>\n",
       "      <td>bullet</td>\n",
       "      <td>57 days 22:10:02</td>\n",
       "    </tr>\n",
       "  </tbody>\n",
       "</table>\n",
       "</div>"
      ],
      "text/plain": [
       "   loan_id  funded_amount  loan_amount  status country_code country_name  \\\n",
       "0   657307            125          125  funded           PH  Philippines   \n",
       "1   657259            400          400  funded           HN     Honduras   \n",
       "2   658010            400          400  funded           PK     Pakistan   \n",
       "3   659347            625          625  funded           KG   Kyrgyzstan   \n",
       "4   656933            425          425  funded           PH  Philippines   \n",
       "\n",
       "         planned_expiration_time                  disburse_time  \\\n",
       "0  2014-02-14 03:30:06.000 +0000  2013-12-22 08:00:00.000 +0000   \n",
       "1  2014-03-26 22:25:07.000 +0000  2013-12-20 08:00:00.000 +0000   \n",
       "2  2014-02-15 21:10:05.000 +0000  2014-01-09 08:00:00.000 +0000   \n",
       "3  2014-02-21 03:10:02.000 +0000  2014-01-17 08:00:00.000 +0000   \n",
       "4  2014-02-13 06:10:02.000 +0000  2013-12-17 08:00:00.000 +0000   \n",
       "\n",
       "   num_lenders_total repayment_interval         duration  \n",
       "0                  3          irregular 53 days 19:30:06  \n",
       "1                 11            monthly 96 days 14:25:07  \n",
       "2                 16            monthly 37 days 13:10:05  \n",
       "3                 21            monthly 34 days 19:10:02  \n",
       "4                 15             bullet 57 days 22:10:02  "
      ]
     },
     "execution_count": 9,
     "metadata": {},
     "output_type": "execute_result"
    }
   ],
   "source": [
    "loans['duration'] = (loans['planned_expiration_time'].astype('datetime64') - loans['disburse_time'].astype('datetime64'))\n",
    "loans.head()"
   ]
  },
  {
   "cell_type": "markdown",
   "metadata": {},
   "source": [
    "### 3. Find the lenders that have funded at least twice."
   ]
  },
  {
   "cell_type": "code",
   "execution_count": 10,
   "metadata": {},
   "outputs": [
    {
     "data": {
      "text/html": [
       "<div>\n",
       "<style scoped>\n",
       "    .dataframe tbody tr th:only-of-type {\n",
       "        vertical-align: middle;\n",
       "    }\n",
       "\n",
       "    .dataframe tbody tr th {\n",
       "        vertical-align: top;\n",
       "    }\n",
       "\n",
       "    .dataframe thead th {\n",
       "        text-align: right;\n",
       "    }\n",
       "</style>\n",
       "<table border=\"1\" class=\"dataframe\">\n",
       "  <thead>\n",
       "    <tr style=\"text-align: right;\">\n",
       "      <th></th>\n",
       "      <th>loan_id</th>\n",
       "    </tr>\n",
       "    <tr>\n",
       "      <th>lender</th>\n",
       "      <th></th>\n",
       "    </tr>\n",
       "  </thead>\n",
       "  <tbody>\n",
       "    <tr>\n",
       "      <th>000</th>\n",
       "      <td>39</td>\n",
       "    </tr>\n",
       "    <tr>\n",
       "      <th>00000</th>\n",
       "      <td>39</td>\n",
       "    </tr>\n",
       "    <tr>\n",
       "      <th>0002</th>\n",
       "      <td>70</td>\n",
       "    </tr>\n",
       "    <tr>\n",
       "      <th>0101craign0101</th>\n",
       "      <td>71</td>\n",
       "    </tr>\n",
       "    <tr>\n",
       "      <th>0132575</th>\n",
       "      <td>4</td>\n",
       "    </tr>\n",
       "    <tr>\n",
       "      <th>...</th>\n",
       "      <td>...</td>\n",
       "    </tr>\n",
       "    <tr>\n",
       "      <th>zyrorl</th>\n",
       "      <td>3</td>\n",
       "    </tr>\n",
       "    <tr>\n",
       "      <th>zzaman</th>\n",
       "      <td>11</td>\n",
       "    </tr>\n",
       "    <tr>\n",
       "      <th>zzanita</th>\n",
       "      <td>2</td>\n",
       "    </tr>\n",
       "    <tr>\n",
       "      <th>zzmcfate</th>\n",
       "      <td>56</td>\n",
       "    </tr>\n",
       "    <tr>\n",
       "      <th>zzrvmf8538</th>\n",
       "      <td>2</td>\n",
       "    </tr>\n",
       "  </tbody>\n",
       "</table>\n",
       "<p>1005111 rows × 1 columns</p>\n",
       "</div>"
      ],
      "text/plain": [
       "                 loan_id\n",
       "lender                  \n",
       " 000                  39\n",
       " 00000                39\n",
       " 0002                 70\n",
       " 0101craign0101       71\n",
       " 0132575               4\n",
       "...                  ...\n",
       "zyrorl                 3\n",
       "zzaman                11\n",
       "zzanita                2\n",
       "zzmcfate              56\n",
       "zzrvmf8538             2\n",
       "\n",
       "[1005111 rows x 1 columns]"
      ]
     },
     "execution_count": 10,
     "metadata": {},
     "output_type": "execute_result"
    }
   ],
   "source": [
    "lenders_count = lenders.groupby('lender').count()\n",
    "lenders_count.query('loan_id > 1')"
   ]
  },
  {
   "cell_type": "markdown",
   "metadata": {},
   "source": [
    "### 4. For each country, compute how many loans have involved that country as borrowers."
   ]
  },
  {
   "cell_type": "code",
   "execution_count": 11,
   "metadata": {},
   "outputs": [
    {
     "data": {
      "text/plain": [
       "country_name\n",
       "Afghanistan     2337\n",
       "Albania         3075\n",
       "Armenia        13952\n",
       "Azerbaijan     10172\n",
       "Belize           218\n",
       "               ...  \n",
       "Canada             1\n",
       "Botswana           1\n",
       "Bhutan             2\n",
       "Mauritania         1\n",
       "Uruguay            1\n",
       "Name: loan_id, Length: 96, dtype: int64"
      ]
     },
     "execution_count": 11,
     "metadata": {},
     "output_type": "execute_result"
    }
   ],
   "source": [
    "loans.groupby('country_name')['loan_id'].count()"
   ]
  },
  {
   "cell_type": "markdown",
   "metadata": {},
   "source": [
    "### 5. For each country, compute the overall amount of money borrowed."
   ]
  },
  {
   "cell_type": "code",
   "execution_count": 12,
   "metadata": {},
   "outputs": [
    {
     "data": {
      "text/plain": [
       "country_name\n",
       "Afghanistan     1967950\n",
       "Albania         4307350\n",
       "Armenia        22950475\n",
       "Azerbaijan     14784625\n",
       "Belize           150175\n",
       "                 ...   \n",
       "Canada            50000\n",
       "Botswana           8000\n",
       "Bhutan            20000\n",
       "Mauritania        15000\n",
       "Uruguay            8000\n",
       "Name: loan_amount, Length: 96, dtype: uint32"
      ]
     },
     "execution_count": 12,
     "metadata": {},
     "output_type": "execute_result"
    }
   ],
   "source": [
    "loans.groupby('country_name')['loan_amount'].sum()"
   ]
  },
  {
   "cell_type": "markdown",
   "metadata": {},
   "source": [
    "### 6. Like the previous point, but expressed as a percentage of the overall amount lent."
   ]
  },
  {
   "cell_type": "code",
   "execution_count": 13,
   "metadata": {},
   "outputs": [
    {
     "data": {
      "text/plain": [
       "country_name\n",
       "Afghanistan    0.998323\n",
       "Albania        0.926898\n",
       "Armenia        0.883846\n",
       "Azerbaijan     0.959872\n",
       "Belize         1.000000\n",
       "                 ...   \n",
       "Canada         1.000000\n",
       "Botswana       1.000000\n",
       "Bhutan         0.781250\n",
       "Mauritania     1.000000\n",
       "Uruguay        1.000000\n",
       "Length: 96, dtype: float64"
      ]
     },
     "execution_count": 13,
     "metadata": {},
     "output_type": "execute_result"
    }
   ],
   "source": [
    " loans.groupby('country_name')['funded_amount'].sum() / loans.groupby('country_name')['loan_amount'].sum()"
   ]
  },
  {
   "cell_type": "markdown",
   "metadata": {},
   "source": [
    "### 7. Like the three previous points, but split for each year (with respect to disburse time)."
   ]
  },
  {
   "cell_type": "code",
   "execution_count": 14,
   "metadata": {},
   "outputs": [
    {
     "data": {
      "text/plain": [
       "country_name  disburse_year\n",
       "Afghanistan   2005                  NaN\n",
       "              2006                  NaN\n",
       "              2007             194975.0\n",
       "              2008             365375.0\n",
       "              2009             581825.0\n",
       "                                 ...   \n",
       "Uruguay       2014                  NaN\n",
       "              2015                  NaN\n",
       "              2016                  NaN\n",
       "              2017                  NaN\n",
       "              2018               8000.0\n",
       "Name: funded_amount, Length: 1344, dtype: float64"
      ]
     },
     "execution_count": 14,
     "metadata": {},
     "output_type": "execute_result"
    }
   ],
   "source": [
    "loans['disburse_year'] = loans['disburse_time'].str.split('-', expand= True)[0]\n",
    "loans.groupby(['country_name','disburse_year'])['funded_amount'].sum()"
   ]
  },
  {
   "cell_type": "markdown",
   "metadata": {},
   "source": [
    "### 8. For each lender, compute the overall amount of money lent. For each loan that has more than one lender, you must assume that all lenders contributed the same amount."
   ]
  },
  {
   "cell_type": "code",
   "execution_count": 15,
   "metadata": {},
   "outputs": [
    {
     "data": {
      "text/html": [
       "<div>\n",
       "<style scoped>\n",
       "    .dataframe tbody tr th:only-of-type {\n",
       "        vertical-align: middle;\n",
       "    }\n",
       "\n",
       "    .dataframe tbody tr th {\n",
       "        vertical-align: top;\n",
       "    }\n",
       "\n",
       "    .dataframe thead th {\n",
       "        text-align: right;\n",
       "    }\n",
       "</style>\n",
       "<table border=\"1\" class=\"dataframe\">\n",
       "  <thead>\n",
       "    <tr style=\"text-align: right;\">\n",
       "      <th></th>\n",
       "      <th>loan_id</th>\n",
       "      <th>lender</th>\n",
       "      <th>loan_amount</th>\n",
       "      <th>num_lenders_total</th>\n",
       "    </tr>\n",
       "  </thead>\n",
       "  <tbody>\n",
       "    <tr>\n",
       "      <th>0</th>\n",
       "      <td>483693</td>\n",
       "      <td>muc888</td>\n",
       "      <td>1225.0</td>\n",
       "      <td>44.0</td>\n",
       "    </tr>\n",
       "    <tr>\n",
       "      <th>0</th>\n",
       "      <td>483693</td>\n",
       "      <td>sam4326</td>\n",
       "      <td>1225.0</td>\n",
       "      <td>44.0</td>\n",
       "    </tr>\n",
       "    <tr>\n",
       "      <th>0</th>\n",
       "      <td>483693</td>\n",
       "      <td>camaran3922</td>\n",
       "      <td>1225.0</td>\n",
       "      <td>44.0</td>\n",
       "    </tr>\n",
       "    <tr>\n",
       "      <th>0</th>\n",
       "      <td>483693</td>\n",
       "      <td>lachheb1865</td>\n",
       "      <td>1225.0</td>\n",
       "      <td>44.0</td>\n",
       "    </tr>\n",
       "    <tr>\n",
       "      <th>0</th>\n",
       "      <td>483693</td>\n",
       "      <td>rebecca3499</td>\n",
       "      <td>1225.0</td>\n",
       "      <td>44.0</td>\n",
       "    </tr>\n",
       "  </tbody>\n",
       "</table>\n",
       "</div>"
      ],
      "text/plain": [
       "   loan_id        lender  loan_amount  num_lenders_total\n",
       "0   483693        muc888       1225.0               44.0\n",
       "0   483693       sam4326       1225.0               44.0\n",
       "0   483693   camaran3922       1225.0               44.0\n",
       "0   483693   lachheb1865       1225.0               44.0\n",
       "0   483693   rebecca3499       1225.0               44.0"
      ]
     },
     "execution_count": 15,
     "metadata": {},
     "output_type": "execute_result"
    }
   ],
   "source": [
    "lenders = lenders.join(loans[['loan_id','loan_amount','num_lenders_total']].set_index('loan_id'), on='loan_id')\n",
    "lenders.head()"
   ]
  },
  {
   "cell_type": "code",
   "execution_count": 16,
   "metadata": {},
   "outputs": [],
   "source": [
    "lenders['quota']= lenders['loan_amount'] / lenders['num_lenders_total']"
   ]
  },
  {
   "cell_type": "code",
   "execution_count": 17,
   "metadata": {},
   "outputs": [
    {
     "data": {
      "text/html": [
       "<div>\n",
       "<style scoped>\n",
       "    .dataframe tbody tr th:only-of-type {\n",
       "        vertical-align: middle;\n",
       "    }\n",
       "\n",
       "    .dataframe tbody tr th {\n",
       "        vertical-align: top;\n",
       "    }\n",
       "\n",
       "    .dataframe thead th {\n",
       "        text-align: right;\n",
       "    }\n",
       "</style>\n",
       "<table border=\"1\" class=\"dataframe\">\n",
       "  <thead>\n",
       "    <tr style=\"text-align: right;\">\n",
       "      <th></th>\n",
       "      <th>loan_id</th>\n",
       "      <th>lender</th>\n",
       "      <th>loan_amount</th>\n",
       "      <th>num_lenders_total</th>\n",
       "      <th>quota</th>\n",
       "    </tr>\n",
       "  </thead>\n",
       "  <tbody>\n",
       "    <tr>\n",
       "      <th>0</th>\n",
       "      <td>483693</td>\n",
       "      <td>muc888</td>\n",
       "      <td>1225.0</td>\n",
       "      <td>44.0</td>\n",
       "      <td>27.840909</td>\n",
       "    </tr>\n",
       "    <tr>\n",
       "      <th>0</th>\n",
       "      <td>483693</td>\n",
       "      <td>sam4326</td>\n",
       "      <td>1225.0</td>\n",
       "      <td>44.0</td>\n",
       "      <td>27.840909</td>\n",
       "    </tr>\n",
       "    <tr>\n",
       "      <th>0</th>\n",
       "      <td>483693</td>\n",
       "      <td>camaran3922</td>\n",
       "      <td>1225.0</td>\n",
       "      <td>44.0</td>\n",
       "      <td>27.840909</td>\n",
       "    </tr>\n",
       "    <tr>\n",
       "      <th>0</th>\n",
       "      <td>483693</td>\n",
       "      <td>lachheb1865</td>\n",
       "      <td>1225.0</td>\n",
       "      <td>44.0</td>\n",
       "      <td>27.840909</td>\n",
       "    </tr>\n",
       "    <tr>\n",
       "      <th>0</th>\n",
       "      <td>483693</td>\n",
       "      <td>rebecca3499</td>\n",
       "      <td>1225.0</td>\n",
       "      <td>44.0</td>\n",
       "      <td>27.840909</td>\n",
       "    </tr>\n",
       "  </tbody>\n",
       "</table>\n",
       "</div>"
      ],
      "text/plain": [
       "   loan_id        lender  loan_amount  num_lenders_total      quota\n",
       "0   483693        muc888       1225.0               44.0  27.840909\n",
       "0   483693       sam4326       1225.0               44.0  27.840909\n",
       "0   483693   camaran3922       1225.0               44.0  27.840909\n",
       "0   483693   lachheb1865       1225.0               44.0  27.840909\n",
       "0   483693   rebecca3499       1225.0               44.0  27.840909"
      ]
     },
     "execution_count": 17,
     "metadata": {},
     "output_type": "execute_result"
    }
   ],
   "source": [
    "lenders.head()"
   ]
  },
  {
   "cell_type": "code",
   "execution_count": 19,
   "metadata": {},
   "outputs": [
    {
     "data": {
      "text/plain": [
       "lender\n",
       " 000               1485.309656\n",
       " 00000             1249.947363\n",
       " 0002              2201.180463\n",
       " 00mike00            38.461538\n",
       " 0101craign0101    2424.088932\n",
       "                      ...     \n",
       "zzanita              62.500000\n",
       "zzcyna7269           44.285714\n",
       "zzinnia              32.758621\n",
       "zzmcfate           2033.750197\n",
       "zzrvmf8538          112.820513\n",
       "Name: quota, Length: 1639026, dtype: float64"
      ]
     },
     "execution_count": 19,
     "metadata": {},
     "output_type": "execute_result"
    }
   ],
   "source": [
    "lenders.groupby('lender')['quota'].sum()"
   ]
  },
  {
   "cell_type": "markdown",
   "metadata": {},
   "source": [
    "### 9. For each country, compute the difference between the overall amount of money lent and the overall amount of money borrowed. Since the country of the lender is often unknown, you can assume that the true distribution among the countries is the same as the one computed from the rows where the country is known."
   ]
  },
  {
   "cell_type": "code",
   "execution_count": null,
   "metadata": {},
   "outputs": [],
   "source": [
    "df3 = pd.read_csv('additional-kiva-snapshot/lenders.csv')"
   ]
  },
  {
   "cell_type": "code",
   "execution_count": null,
   "metadata": {},
   "outputs": [],
   "source": [
    "df3.head()"
   ]
  },
  {
   "cell_type": "code",
   "execution_count": null,
   "metadata": {},
   "outputs": [],
   "source": [
    "df3.groupby('country_code').size()"
   ]
  },
  {
   "cell_type": "code",
   "execution_count": null,
   "metadata": {},
   "outputs": [],
   "source": [
    "df3.shape"
   ]
  },
  {
   "cell_type": "code",
   "execution_count": null,
   "metadata": {},
   "outputs": [],
   "source": [
    "df3['country_code'].isnull().sum()"
   ]
  },
  {
   "cell_type": "code",
   "execution_count": null,
   "metadata": {},
   "outputs": [],
   "source": [
    "s=df3.country_code.value_counts(normalize= True)"
   ]
  },
  {
   "cell_type": "code",
   "execution_count": null,
   "metadata": {},
   "outputs": [],
   "source": [
    "s"
   ]
  },
  {
   "cell_type": "code",
   "execution_count": null,
   "metadata": {},
   "outputs": [],
   "source": [
    "isnull = df3.country_code.isnull()\n",
    "sample = df3.country_code.dropna().sample(isnull.sum(), replace=True).values\n",
    "df3.loc[isnull, 'country_code'] = sample"
   ]
  },
  {
   "cell_type": "code",
   "execution_count": null,
   "metadata": {},
   "outputs": [],
   "source": [
    "df3.country_code.head()"
   ]
  },
  {
   "cell_type": "code",
   "execution_count": null,
   "metadata": {},
   "outputs": [],
   "source": [
    "df3.head()"
   ]
  },
  {
   "cell_type": "code",
   "execution_count": null,
   "metadata": {},
   "outputs": [],
   "source": [
    "df3.columns"
   ]
  },
  {
   "cell_type": "code",
   "execution_count": null,
   "metadata": {},
   "outputs": [],
   "source": [
    "df3.groupby('permanent_name').sum().head()"
   ]
  },
  {
   "cell_type": "code",
   "execution_count": null,
   "metadata": {},
   "outputs": [],
   "source": [
    "df3.loc[df3.permanent_name=='muc888']"
   ]
  },
  {
   "cell_type": "code",
   "execution_count": null,
   "metadata": {},
   "outputs": [],
   "source": [
    "df9= df8_1.groupby('Finanziatori').quota.sum()\n",
    "df9.head()"
   ]
  },
  {
   "cell_type": "code",
   "execution_count": null,
   "metadata": {},
   "outputs": [],
   "source": [
    "df9= pd.DataFrame(df9)\n",
    "df9.head()"
   ]
  },
  {
   "cell_type": "code",
   "execution_count": null,
   "metadata": {},
   "outputs": [],
   "source": [
    "df9=df9.reset_index()\n",
    "df9.head()"
   ]
  },
  {
   "cell_type": "code",
   "execution_count": null,
   "metadata": {},
   "outputs": [],
   "source": [
    "df9=df9.rename(columns={\"Finanziatori\": \"permanent_name\", \"quota\": \"prestito_tot\"})"
   ]
  },
  {
   "cell_type": "code",
   "execution_count": null,
   "metadata": {},
   "outputs": [],
   "source": [
    "df9.head()"
   ]
  },
  {
   "cell_type": "code",
   "execution_count": null,
   "metadata": {},
   "outputs": [],
   "source": [
    "df91= df3[['permanent_name','country_code']]"
   ]
  },
  {
   "cell_type": "code",
   "execution_count": null,
   "metadata": {},
   "outputs": [],
   "source": [
    "df91.head()"
   ]
  },
  {
   "cell_type": "code",
   "execution_count": null,
   "metadata": {},
   "outputs": [],
   "source": [
    "df_hope= pd.merge(df9,df91)"
   ]
  },
  {
   "cell_type": "code",
   "execution_count": null,
   "metadata": {},
   "outputs": [],
   "source": [
    "df_hope.head()"
   ]
  },
  {
   "cell_type": "code",
   "execution_count": null,
   "metadata": {},
   "outputs": [],
   "source": [
    "df9end = df_hope.groupby('country_code').prestito_tot.sum()"
   ]
  },
  {
   "cell_type": "code",
   "execution_count": null,
   "metadata": {},
   "outputs": [],
   "source": [
    "df9end.head()"
   ]
  },
  {
   "cell_type": "code",
   "execution_count": null,
   "metadata": {},
   "outputs": [],
   "source": [
    "df9end1=df2.groupby('country_code')['loan_amount'].sum()"
   ]
  },
  {
   "cell_type": "code",
   "execution_count": null,
   "metadata": {},
   "outputs": [],
   "source": [
    "df9end = pd.DataFrame(df9end)\n",
    "df9end.head()"
   ]
  },
  {
   "cell_type": "code",
   "execution_count": null,
   "metadata": {},
   "outputs": [],
   "source": [
    "df9end1= pd.DataFrame(df9end1)\n",
    "df9end1.head()\n"
   ]
  },
  {
   "cell_type": "code",
   "execution_count": null,
   "metadata": {},
   "outputs": [],
   "source": [
    "df9end=df9end.reset_index()\n",
    "df9end.head()"
   ]
  },
  {
   "cell_type": "code",
   "execution_count": null,
   "metadata": {},
   "outputs": [],
   "source": [
    "df9end1 =df9end1.reset_index()\n",
    "df9end1.head()"
   ]
  },
  {
   "cell_type": "code",
   "execution_count": null,
   "metadata": {},
   "outputs": [],
   "source": [
    "df9END= df9end.join(df9end1[['country_code','loan_amount']].set_index('country_code'), on='country_code')"
   ]
  },
  {
   "cell_type": "code",
   "execution_count": null,
   "metadata": {},
   "outputs": [],
   "source": [
    "df9END.head()"
   ]
  },
  {
   "cell_type": "code",
   "execution_count": null,
   "metadata": {},
   "outputs": [],
   "source": [
    "df9END=df9END.fillna(0)"
   ]
  },
  {
   "cell_type": "code",
   "execution_count": null,
   "metadata": {},
   "outputs": [],
   "source": [
    "df9END['diff'] = df9END['prestito_tot'] - df9END['loan_amount']"
   ]
  },
  {
   "cell_type": "code",
   "execution_count": null,
   "metadata": {},
   "outputs": [],
   "source": [
    "df9END.head()"
   ]
  },
  {
   "cell_type": "markdown",
   "metadata": {},
   "source": [
    "### 10. Which country has the highest ratio between the difference computed at the previous point and the population?"
   ]
  },
  {
   "cell_type": "code",
   "execution_count": null,
   "metadata": {},
   "outputs": [],
   "source": [
    "df10 = pd.read_csv('additional-kiva-snapshot/country_stats.csv')"
   ]
  },
  {
   "cell_type": "code",
   "execution_count": null,
   "metadata": {},
   "outputs": [],
   "source": [
    "df10.head()"
   ]
  },
  {
   "cell_type": "code",
   "execution_count": null,
   "metadata": {},
   "outputs": [],
   "source": [
    "df10_1 = df10[['country_code','population']]"
   ]
  },
  {
   "cell_type": "code",
   "execution_count": null,
   "metadata": {},
   "outputs": [],
   "source": [
    "df10_1.head()"
   ]
  },
  {
   "cell_type": "code",
   "execution_count": null,
   "metadata": {},
   "outputs": [],
   "source": [
    "df10_2=pd.merge(df10_1,df9END)"
   ]
  },
  {
   "cell_type": "code",
   "execution_count": null,
   "metadata": {},
   "outputs": [],
   "source": [
    "df10_2.head()"
   ]
  },
  {
   "cell_type": "code",
   "execution_count": null,
   "metadata": {},
   "outputs": [],
   "source": [
    "df10_2['punto10'] = df10_2['diff'] / df10_2['population']"
   ]
  },
  {
   "cell_type": "code",
   "execution_count": null,
   "metadata": {},
   "outputs": [],
   "source": [
    "df10_2.head()"
   ]
  },
  {
   "cell_type": "code",
   "execution_count": null,
   "metadata": {},
   "outputs": [],
   "source": [
    "df10_2.loc[df10_2['punto10'].idxmax(),['country_code', 'punto10']]"
   ]
  },
  {
   "cell_type": "markdown",
   "metadata": {},
   "source": [
    "### 11. Which country has the highest ratio between the difference computed at point 9 and the population that is not below the poverty line?"
   ]
  },
  {
   "cell_type": "code",
   "execution_count": null,
   "metadata": {},
   "outputs": [],
   "source": [
    "df11_1= df10[['country_code','population','population_below_poverty_line',]]"
   ]
  },
  {
   "cell_type": "code",
   "execution_count": null,
   "metadata": {},
   "outputs": [],
   "source": [
    "df11_1.head()"
   ]
  },
  {
   "cell_type": "code",
   "execution_count": null,
   "metadata": {},
   "outputs": [],
   "source": [
    "df11_1.population_below_poverty_line.dtype"
   ]
  },
  {
   "cell_type": "code",
   "execution_count": null,
   "metadata": {},
   "outputs": [],
   "source": [
    "df11_1['punto11'] = df11_1['population'] * (1- df11_1['population_below_poverty_line'] / 100)"
   ]
  },
  {
   "cell_type": "code",
   "execution_count": null,
   "metadata": {},
   "outputs": [],
   "source": [
    "df11_1.head()"
   ]
  },
  {
   "cell_type": "code",
   "execution_count": null,
   "metadata": {},
   "outputs": [],
   "source": [
    "df11_2 = pd.merge(df11_1 , df10_2)"
   ]
  },
  {
   "cell_type": "code",
   "execution_count": null,
   "metadata": {},
   "outputs": [],
   "source": [
    "df11_2.head()"
   ]
  },
  {
   "cell_type": "code",
   "execution_count": null,
   "metadata": {},
   "outputs": [],
   "source": [
    "df11_2['ratio'] = df11_2['diff'] / df11_2['punto11']"
   ]
  },
  {
   "cell_type": "code",
   "execution_count": null,
   "metadata": {},
   "outputs": [],
   "source": [
    "df11_2.loc[df11_2['ratio'].idxmax(),['country_code','ratio']]"
   ]
  },
  {
   "cell_type": "code",
   "execution_count": null,
   "metadata": {},
   "outputs": [],
   "source": [
    "df11_2.loc[df11_2.country_code=='LU',:]"
   ]
  },
  {
   "cell_type": "markdown",
   "metadata": {},
   "source": [
    "### 12. For each year, compute the total amount of loans. Each loan that has planned expiration time and disburse time in different years must have its amount distributed proportionally to the number of days in each year. For example, a loan with disburse time December 1st, 2016, planned expiration time January 30th 2018, and amount 5000USD has an amount of 5000USD * 31 / (31+365+30) = 363.85 for 2016, 5000USD * 365 / (31+365+30) = 4284.04 for 2017, and 5000USD * 30 / (31+365+30) = 352.11 for 2018."
   ]
  },
  {
   "cell_type": "code",
   "execution_count": null,
   "metadata": {},
   "outputs": [],
   "source": [
    "def day_calc(date1, date2):\n",
    "    (begin,end) = (date1,date2) if date1<date2 else (date2,date1)\n",
    "    date_list = list()\n",
    "    date_list.append(begin)\n",
    "    for y in range(begin.year+1, end.year+1):\n",
    "        date_list.append(pd.Timestamp(year=y, month=1, day=1, tz='utc'))\n",
    "    date_list.append(end)\n",
    "    \n",
    "    res = dict()\n",
    "    for i in range(len(date_list)-1):\n",
    "        res[date_list[i].year] = (date_list[i+1] - date_list[i]).days\n",
    "\n",
    "    return pd.Series(res, name='DateValue')\n",
    "\n"
   ]
  },
  {
   "cell_type": "code",
   "execution_count": null,
   "metadata": {},
   "outputs": [],
   "source": [
    "df12= pd.read_csv('additional-kiva-snapshot/loans.csv')"
   ]
  },
  {
   "cell_type": "code",
   "execution_count": null,
   "metadata": {},
   "outputs": [],
   "source": [
    "df12['planned_expiration_time'] = pd.to_datetime(df12['planned_expiration_time'])\n",
    "df12['disburse_time'] = pd.to_datetime(df12['disburse_time'])\n",
    "df12['duration'] = (df12['planned_expiration_time'] - df12['disburse_time']).apply(lambda x: x.days)\n"
   ]
  },
  {
   "cell_type": "code",
   "execution_count": null,
   "metadata": {},
   "outputs": [],
   "source": [
    "data_loans = df12.dropna()\n",
    "df_day_weighted = data_loans.apply(lambda x: day_calc(x['planned_expiration_time'],x['disburse_time']), axis = 1)\n",
    "df_day_weighted.head()"
   ]
  },
  {
   "cell_type": "code",
   "execution_count": null,
   "metadata": {},
   "outputs": [],
   "source": [
    "df_day_weighted.fillna(0, inplace= True)\n",
    "df_day_weighted = pd.concat([df_day_weighted, data_loans['loan_id']\n",
    "                 , data_loans['loan_amount']\n",
    "                 , data_loans['duration'] ]\n",
    "                , axis = 1, sort = True)\n",
    "\n",
    "df_day_weighted.head()"
   ]
  },
  {
   "cell_type": "code",
   "execution_count": null,
   "metadata": {},
   "outputs": [],
   "source": [
    "final = df_day_weighted[[2011,2012,2013,2014,2015,2016,2017,2018\n",
    "                        ]].div(df_day_weighted.duration, axis=0).mul(df_day_weighted.loan_amount, axis = 0)\n",
    "\n",
    "final = pd.concat([df_day_weighted['loan_id'], final],  axis = 1 )\n",
    "final = final.melt(id_vars=[\"loan_id\"], \n",
    "        var_name=\"Year\", \n",
    "        value_name=\"amount_per_year\")\n",
    "\n",
    "final.groupby(['loan_id', 'Year']).sum()"
   ]
  },
  {
   "cell_type": "markdown",
   "metadata": {},
   "source": [
    "### 13. For each value of repayment_interval, add a new column to the lenders dataframe that contains the total amount of money corresponding to loans in such state"
   ]
  },
  {
   "cell_type": "code",
   "execution_count": null,
   "metadata": {},
   "outputs": [],
   "source": [
    "df13 = df2.groupby('country_code')['repayment_interval'].sum()"
   ]
  },
  {
   "cell_type": "code",
   "execution_count": null,
   "metadata": {},
   "outputs": [],
   "source": [
    "df2.repayment_interval.head()"
   ]
  },
  {
   "cell_type": "code",
   "execution_count": null,
   "metadata": {},
   "outputs": [],
   "source": [
    "df3.columns"
   ]
  },
  {
   "cell_type": "code",
   "execution_count": null,
   "metadata": {},
   "outputs": [],
   "source": [
    "df2.columns"
   ]
  },
  {
   "cell_type": "code",
   "execution_count": null,
   "metadata": {},
   "outputs": [],
   "source": [
    "def attach_totals_to_lenders():\n",
    "\n",
    "    # {'country_code' := NaN} è considerato uno stato\n",
    "\n",
    "    sum_by_country = df2.groupby('country_code', as_index=False).sum()[['country_code', 'funded_amount']]\n",
    "\n",
    "    to_cross = df3\n",
    "\n",
    "    return pd.merge(to_cross, sum_by_country, left_on='country_code', right_on='country_code')"
   ]
  },
  {
   "cell_type": "code",
   "execution_count": null,
   "metadata": {},
   "outputs": [],
   "source": [
    "out_13 = attach_totals_to_lenders()\n",
    "\n",
    "display(out_13)"
   ]
  },
  {
   "cell_type": "code",
   "execution_count": null,
   "metadata": {},
   "outputs": [],
   "source": [
    "df13 = df2.groupby('country_code', as_index=False).sum()[['country_code', 'funded_amount']]"
   ]
  },
  {
   "cell_type": "code",
   "execution_count": null,
   "metadata": {},
   "outputs": [],
   "source": [
    "pd.merge(df13,df3, left_on='country_code', right_on='country_code')"
   ]
  },
  {
   "cell_type": "markdown",
   "metadata": {},
   "source": [
    "### 14. What is the occupation with the highest average amount of money lent (the average must be computed over all lenders with a given occupation)?"
   ]
  },
  {
   "cell_type": "code",
   "execution_count": null,
   "metadata": {},
   "outputs": [],
   "source": [
    "df3.occupation.head(50)"
   ]
  },
  {
   "cell_type": "code",
   "execution_count": null,
   "metadata": {},
   "outputs": [],
   "source": [
    "df14_1=df3[['occupation','permanent_name']]"
   ]
  },
  {
   "cell_type": "code",
   "execution_count": null,
   "metadata": {},
   "outputs": [],
   "source": [
    "df14_1.head()"
   ]
  },
  {
   "cell_type": "code",
   "execution_count": null,
   "metadata": {},
   "outputs": [],
   "source": [
    "df14=df14_1.dropna()"
   ]
  },
  {
   "cell_type": "code",
   "execution_count": null,
   "metadata": {},
   "outputs": [],
   "source": [
    "df14.head()"
   ]
  },
  {
   "cell_type": "code",
   "execution_count": null,
   "metadata": {},
   "outputs": [],
   "source": [
    "df8_1.head()"
   ]
  },
  {
   "cell_type": "code",
   "execution_count": null,
   "metadata": {},
   "outputs": [],
   "source": [
    "df14_3=pd.DataFrame(df8_1.groupby('Finanziatori').quota.sum())"
   ]
  },
  {
   "cell_type": "code",
   "execution_count": null,
   "metadata": {},
   "outputs": [],
   "source": [
    "df14_3.head()"
   ]
  },
  {
   "cell_type": "code",
   "execution_count": null,
   "metadata": {},
   "outputs": [],
   "source": [
    "df14_3=df14_3.reset_index()"
   ]
  },
  {
   "cell_type": "code",
   "execution_count": null,
   "metadata": {},
   "outputs": [],
   "source": [
    "df14_3.head()"
   ]
  },
  {
   "cell_type": "code",
   "execution_count": null,
   "metadata": {},
   "outputs": [],
   "source": [
    "df14 = df14.rename(columns={\"occupation\": \"occupation\", \"permanent_name\": \"Finanziatori\"})"
   ]
  },
  {
   "cell_type": "code",
   "execution_count": null,
   "metadata": {},
   "outputs": [],
   "source": [
    "df14.head()"
   ]
  },
  {
   "cell_type": "code",
   "execution_count": null,
   "metadata": {},
   "outputs": [],
   "source": [
    "df14_mix= df14.join(df14_3[['Finanziatori','quota']].set_index('Finanziatori'), on='Finanziatori')"
   ]
  },
  {
   "cell_type": "code",
   "execution_count": null,
   "metadata": {},
   "outputs": [],
   "source": [
    "df14_mix.head(50)"
   ]
  },
  {
   "cell_type": "code",
   "execution_count": null,
   "metadata": {},
   "outputs": [],
   "source": [
    "df14_mix.groupby('occupation')['quota'].sum().idxmax()\n"
   ]
  },
  {
   "cell_type": "code",
   "execution_count": null,
   "metadata": {},
   "outputs": [],
   "source": [
    "df14_mix.groupby('occupation').sum()['quota'].idxmax()"
   ]
  },
  {
   "cell_type": "markdown",
   "metadata": {},
   "source": [
    "### 15. Cluster the loans according to the year-month of disburse time."
   ]
  },
  {
   "cell_type": "code",
   "execution_count": null,
   "metadata": {},
   "outputs": [],
   "source": [
    "df2[['funded_amount','disburse_time']].head(30)"
   ]
  },
  {
   "cell_type": "code",
   "execution_count": null,
   "metadata": {},
   "outputs": [],
   "source": [
    "df2.disburse_time.str.split('-', expand=True)"
   ]
  },
  {
   "cell_type": "code",
   "execution_count": null,
   "metadata": {},
   "outputs": [],
   "source": [
    "df2['punto7'] = df2.disburse_time.str.split('-', expand= True)[0]"
   ]
  },
  {
   "cell_type": "code",
   "execution_count": null,
   "metadata": {},
   "outputs": [],
   "source": [
    "df2['punto15'] = df2.disburse_time.str.split('-', expand= True)[1]"
   ]
  },
  {
   "cell_type": "code",
   "execution_count": null,
   "metadata": {},
   "outputs": [],
   "source": [
    "df2.groupby(['punto7','punto15'])['funded_amount'].sum()"
   ]
  },
  {
   "cell_type": "markdown",
   "metadata": {},
   "source": [
    "### 16. For each country, compute its overall GNI, by multiplying the per capita GNI with its population."
   ]
  },
  {
   "cell_type": "code",
   "execution_count": null,
   "metadata": {},
   "outputs": [],
   "source": [
    "df10.head()"
   ]
  },
  {
   "cell_type": "code",
   "execution_count": null,
   "metadata": {},
   "outputs": [],
   "source": [
    "df10['overallGNI']= df10['population'] * df10['gni']"
   ]
  },
  {
   "cell_type": "code",
   "execution_count": null,
   "metadata": {},
   "outputs": [],
   "source": [
    "df10.overallGNI.head(20)"
   ]
  },
  {
   "cell_type": "markdown",
   "metadata": {},
   "source": [
    "### 17. Find the country with the highest rate of irregular repayment interval."
   ]
  },
  {
   "cell_type": "code",
   "execution_count": null,
   "metadata": {},
   "outputs": [],
   "source": []
  },
  {
   "cell_type": "markdown",
   "metadata": {},
   "source": [
    "### 18. Find the country with the highest fraction of loaned amount with irregular repayment interval."
   ]
  },
  {
   "cell_type": "code",
   "execution_count": null,
   "metadata": {},
   "outputs": [],
   "source": []
  }
 ],
 "metadata": {
  "kernelspec": {
   "display_name": "Python 3",
   "language": "python",
   "name": "python3"
  },
  "language_info": {
   "codemirror_mode": {
    "name": "ipython",
    "version": 3
   },
   "file_extension": ".py",
   "mimetype": "text/x-python",
   "name": "python",
   "nbconvert_exporter": "python",
   "pygments_lexer": "ipython3",
   "version": "3.7.4"
  }
 },
 "nbformat": 4,
 "nbformat_minor": 4
}
